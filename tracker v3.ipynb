{
 "cells": [
  {
   "cell_type": "code",
   "execution_count": 1,
   "metadata": {},
   "outputs": [],
   "source": [
    "import pandas as pd\n",
    "import datetime\n",
    "import re\n",
    "import os\n",
    "import warnings\n",
    "import numpy as np\n",
    "warnings.filterwarnings('ignore')"
   ]
  },
  {
   "cell_type": "markdown",
   "metadata": {},
   "source": [
    "# Carga de Bases de datos estandarizadas"
   ]
  },
  {
   "cell_type": "markdown",
   "metadata": {},
   "source": [
    "## Definición de Bases de datos y rutas"
   ]
  },
  {
   "cell_type": "code",
   "execution_count": 2,
   "metadata": {},
   "outputs": [],
   "source": [
    "path = os.path.join(os.path.expanduser('~'), r'Medtronic PLC\\Approvals and Databases SSC - Documents\\Databases')\n",
    "countries = {\n",
    "    'BO': 'Bolivia',\n",
    "    'CO': 'Colombia',\n",
    "    'CR': 'Costa Rica',\n",
    "    'EC': 'Ecuador',\n",
    "    'SV': 'El Salvador',\n",
    "    'GT': 'Guatemala',\n",
    "    'MX': 'Mexico',\n",
    "    'PE': 'Perú',\n",
    "    'VE': 'Venezuela',\n",
    "    'PY': 'Paraguay',\n",
    "}\n",
    "# Ruta para encontrar las BBDD\n",
    "path_db = {\n",
    "    'BO': r'\\Bolivia\\MDT Bolivia DB.xlsm',\n",
    "    'CO': r'\\Colombia\\MDT Colombia DB.xlsm',\n",
    "    'CR': r'\\Costa Rica\\MDT Costa Rica DB.xlsm',\n",
    "    'EC': r'\\Ecuador\\MDT Ecuador DB.xlsm', \n",
    "    'PE': r'\\Perú\\MDT Perú DB.xlsm', \n",
    "    'SV': r'\\El Salvador\\MDT El Salvador DB.xlsm', \n",
    "    'MX': r'\\Mexico\\MDT Mexico DB.xlsm',\n",
    "    'GT': r'\\Guatemala\\MDT Guatemala DB.xlsm',\n",
    "    'VE': r'\\Venezuela\\MDT Venezuela DB.xlsm',\n",
    "    'PY': r'\\Paraguay\\MDT Paraguay DB.xlsm',\n",
    "}"
   ]
  },
  {
   "cell_type": "code",
   "execution_count": 3,
   "metadata": {},
   "outputs": [
    {
     "name": "stdout",
     "output_type": "stream",
     "text": [
      "C:\\Users\\rodrij545\\Medtronic PLC\\Approvals and Databases SSC - Documents\\Databases\\Bolivia\\MDT Bolivia DB.xlsm\n",
      "C:\\Users\\rodrij545\\Medtronic PLC\\Approvals and Databases SSC - Documents\\Databases\\Colombia\\MDT Colombia DB.xlsm\n",
      "C:\\Users\\rodrij545\\Medtronic PLC\\Approvals and Databases SSC - Documents\\Databases\\Costa Rica\\MDT Costa Rica DB.xlsm\n",
      "C:\\Users\\rodrij545\\Medtronic PLC\\Approvals and Databases SSC - Documents\\Databases\\Ecuador\\MDT Ecuador DB.xlsm\n",
      "C:\\Users\\rodrij545\\Medtronic PLC\\Approvals and Databases SSC - Documents\\Databases\\El Salvador\\MDT El Salvador DB.xlsm\n",
      "C:\\Users\\rodrij545\\Medtronic PLC\\Approvals and Databases SSC - Documents\\Databases\\Guatemala\\MDT Guatemala DB.xlsm\n",
      "C:\\Users\\rodrij545\\Medtronic PLC\\Approvals and Databases SSC - Documents\\Databases\\Mexico\\MDT Mexico DB.xlsm\n",
      "C:\\Users\\rodrij545\\Medtronic PLC\\Approvals and Databases SSC - Documents\\Databases\\Perú\\MDT Perú DB.xlsm\n",
      "C:\\Users\\rodrij545\\Medtronic PLC\\Approvals and Databases SSC - Documents\\Databases\\Venezuela\\MDT Venezuela DB.xlsm\n",
      "C:\\Users\\rodrij545\\Medtronic PLC\\Approvals and Databases SSC - Documents\\Databases\\Paraguay\\MDT Paraguay DB.xlsm\n"
     ]
    }
   ],
   "source": [
    "df = pd.DataFrame(columns= ['Country','REGISTRATION NUMBER','REGISTRATION NAME','STATUS','EXPIRATION DATE','CFN','CFN DESCRIPTION','OU','MANUFACTURING SITE','LICENSE HOLDER'])\n",
    "for country in countries.keys():\n",
    "    db_path = path+path_db[country]\n",
    "    print(db_path)\n",
    "    temporal =pd.read_excel(db_path,sheet_name = 'ACTIVE CODES',usecols= ['REGISTRATION NUMBER','REGISTRATION NAME','STATUS','EXPIRATION DATE','CFN','CFN DESCRIPTION','OU','MANUFACTURING SITE','LICENSE HOLDER'],converters={'CFN':str,'REGISTRATION NUMBER':str},\n",
    "                            date_parser = ['EXPIRATION DATE'])\n",
    "    temporal['Country'] = country\n",
    "    df = pd.concat([df,temporal],ignore_index=True)"
   ]
  },
  {
   "cell_type": "markdown",
   "metadata": {},
   "source": [
    "## Carga de Uruguay como excepción"
   ]
  },
  {
   "cell_type": "code",
   "execution_count": 4,
   "metadata": {},
   "outputs": [],
   "source": [
    "db_path = path + r'\\Uruguay\\MDT Uruguay DB.xlsm'\n",
    "temporal =pd.read_excel(db_path,sheet_name = 'ACTIVE CODES',usecols= ['REGISTRATION NUMBER','REGISTRATION NAME','STATUS','EXPIRATION DATE','CFN','OU','MANUFACTURING SITE','LICENSE HOLDER'],converters={'CFN':str,'REGISTRATION NUMBER':str},\n",
    "                            date_parser = ['EXPIRATION DATE'])\n",
    "temporal['Country'] = 'UY'\n",
    "temporal['CFN DESCRIPTION'] = 'No disponible en BD'"
   ]
  },
  {
   "cell_type": "markdown",
   "metadata": {},
   "source": [
    "### Adheción al DataFrame general"
   ]
  },
  {
   "cell_type": "code",
   "execution_count": 5,
   "metadata": {},
   "outputs": [],
   "source": [
    "df = pd.concat([df,temporal],ignore_index=True)"
   ]
  },
  {
   "cell_type": "markdown",
   "metadata": {},
   "source": [
    "# Carga de Base de datos Brasil"
   ]
  },
  {
   "cell_type": "markdown",
   "metadata": {},
   "source": [
    "## Carga inicial de los datos de Brasil"
   ]
  },
  {
   "cell_type": "code",
   "execution_count": 6,
   "metadata": {},
   "outputs": [],
   "source": [
    "brand_code = {\n",
    "    'MDT':\"Medtronic\",\n",
    "    'COV': \"Covidien\"\n",
    "}\n",
    "path_db = {\n",
    "    'COV': r'\\Brasil\\Piloto Oficial_COV_2020.05.22.xlsm',\n",
    "    'MDT': r'\\Brasil\\Piloto Oficial_MDT_2020.06.08.xlsm'\n",
    "}"
   ]
  },
  {
   "cell_type": "code",
   "execution_count": 7,
   "metadata": {},
   "outputs": [
    {
     "name": "stdout",
     "output_type": "stream",
     "text": [
      "C:\\Users\\rodrij545\\Medtronic PLC\\Approvals and Databases SSC - Documents\\Databases\\Brasil\\Piloto Oficial_MDT_2020.06.08.xlsm\n",
      "C:\\Users\\rodrij545\\Medtronic PLC\\Approvals and Databases SSC - Documents\\Databases\\Brasil\\Piloto Oficial_COV_2020.05.22.xlsm\n"
     ]
    }
   ],
   "source": [
    "df_brasil = pd.DataFrame(columns= ['Country','Registro ANVISA','Nome do Registro','Status do Registro','Data de Vencimento do Registro ','Código','Descrição do Código','BU','Fabricante Físico (Real)','Detentor do Registro'])\n",
    "for bc in brand_code.keys():\n",
    "    db_path = path+path_db[bc]\n",
    "    print(db_path)\n",
    "    temporal =pd.read_excel(db_path,sheet_name = 'Banco de Dados',\n",
    "                            usecols= ['Registro ANVISA','Nome do Registro','Status do Registro','Data de Vencimento do Registro ','Código','Descrição do Código','BU','Fabricante Físico (Real)','Detentor do Registro'],converters={'Código':str,'Registro ANVISA':str},\n",
    "                            date_parser = ['Data de Vencimento do Registro '])\n",
    "    temporal['Country'] = 'BR'\n",
    "    df_brasil = pd.concat([df_brasil,temporal],ignore_index=True)\n",
    "df_brasil = df_brasil.rename(columns={'Código':'CFN','BU':'OU','Registro ANVISA':'REGISTRATION NUMBER','Data de Vencimento do Registro ':'EXPIRATION DATE',\n",
    "                               'Nome do Registro':'REGISTRATION NAME', 'Descrição do Código':'CFN DESCRIPTION','Status do Registro':'STATUS','Fabricante Físico (Real)':'MANUFACTURING SITE',\n",
    "                               'Detentor do Registro':'LICENSE HOLDER'})"
   ]
  },
  {
   "cell_type": "markdown",
   "metadata": {},
   "source": [
    "## Pre Procesamiento y adheción al DataFrame principal"
   ]
  },
  {
   "cell_type": "code",
   "execution_count": 8,
   "metadata": {},
   "outputs": [],
   "source": [
    "df_brasil = df_brasil[~df_brasil['STATUS'].isin(['Cancelado','OBSOLETO','obsoleto','Obsoleto','\\\\','Vencido'])]\n",
    "df = pd.concat([df,df_brasil],ignore_index=True)"
   ]
  },
  {
   "cell_type": "markdown",
   "metadata": {},
   "source": [
    "# Carga de las Bases de Datos de Argentina"
   ]
  },
  {
   "cell_type": "code",
   "execution_count": 9,
   "metadata": {},
   "outputs": [],
   "source": [
    "brand_code = {\n",
    "    'MDT':\"Medtronic\",\n",
    "    'COV': \"Covidien\"\n",
    "}\n",
    "path_db = {\n",
    "    'COV': r'\\Argentina\\COV Argentina DB.xlsm',\n",
    "    'MDT': r'\\Argentina\\MDT Argentina DB.xlsm'\n",
    "}"
   ]
  },
  {
   "cell_type": "markdown",
   "metadata": {},
   "source": [
    "## Carga inicial de los Datos"
   ]
  },
  {
   "cell_type": "code",
   "execution_count": 10,
   "metadata": {},
   "outputs": [
    {
     "name": "stdout",
     "output_type": "stream",
     "text": [
      "C:\\Users\\rodrij545\\Medtronic PLC\\Approvals and Databases SSC - Documents\\Databases\\Argentina\\MDT Argentina DB.xlsm\n",
      "C:\\Users\\rodrij545\\Medtronic PLC\\Approvals and Databases SSC - Documents\\Databases\\Argentina\\COV Argentina DB.xlsm\n"
     ]
    }
   ],
   "source": [
    "df_AR = pd.DataFrame(columns = ['Country','REGISTRATION NUMBER','REGISTRATION NAME','STATUS','EXPIRATION DATE','CFN','CFN DESCRIPTION','OU','MANUFACTURING NAME','MANUFACTURING ADDRESS','LICENSE HOLDER'] )\n",
    "for bc in brand_code.keys():\n",
    "    db_path = path+path_db[bc]\n",
    "    print(db_path)\n",
    "    temporal =pd.read_excel(db_path,sheet_name = 'ACTIVE CODES',usecols= ['REGISTRATION NUMBER','REGISTRATION NAME','STATUS','EXPIRATION DATE','CFN','CFN DESCRIPTION','OU','MANUFACTURING NAME','MANUFACTURING ADDRESS','LICENSE HOLDER'],\n",
    "                            date_parser = ['EXPIRATION DATE'],converters = {'REGISTRTION NUMBER':str,'CFN':str,} )\n",
    "    temporal['Country'] = 'AR'\n",
    "    df_AR = pd.concat([df_AR,temporal],ignore_index=True)\n"
   ]
  },
  {
   "cell_type": "markdown",
   "metadata": {},
   "source": [
    "## Pre Procesado de los datos"
   ]
  },
  {
   "cell_type": "markdown",
   "metadata": {},
   "source": [
    "### Concatenación de manufacturer"
   ]
  },
  {
   "cell_type": "code",
   "execution_count": 11,
   "metadata": {},
   "outputs": [],
   "source": [
    "def cut_values(row,column = 'MANUFACTURING ADDRESS'):\n",
    "    var = str(row[column])\n",
    "    if '\\n' in var:\n",
    "        var = var.split('\\n')\n",
    "        var1 = [name.strip() for name in var]\n",
    "        return var\n",
    "    else:\n",
    "        return var\n"
   ]
  },
  {
   "cell_type": "code",
   "execution_count": 12,
   "metadata": {},
   "outputs": [],
   "source": [
    "df_AR['CUT ADDRESS'] = df_AR.apply(cut_values,axis = 1)\n",
    "df_AR['CUT NAME'] = df_AR.apply(cut_values,axis = 1,column = 'MANUFACTURING NAME')"
   ]
  },
  {
   "cell_type": "code",
   "execution_count": 13,
   "metadata": {},
   "outputs": [],
   "source": [
    "def trim_column(row,column = 'REGISTRATION NUMBER'):\n",
    "    a = str(row[column])\n",
    "    a = a.strip()\n",
    "    return a\n"
   ]
  },
  {
   "cell_type": "code",
   "execution_count": 14,
   "metadata": {},
   "outputs": [],
   "source": [
    "def paste_problem(row,name ='CUT ADDRESS',address =  'CUT ADDRESS'):\n",
    "    a = row[name]\n",
    "    b = row[address]\n",
    "    if type(a) is list:\n",
    "        junto = ''\n",
    "        for nombre,dir in zip(a,b):\n",
    "            junto += nombre + ' ' + dir + '\\n'\n",
    "        return junto\n",
    "    else:\n",
    "        junto = a + ' ' + b + '\\n'\n",
    "        return junto\n",
    "\n",
    "    "
   ]
  },
  {
   "cell_type": "code",
   "execution_count": 15,
   "metadata": {},
   "outputs": [],
   "source": [
    "df_AR['MANUFACTURING SITE'] = df_AR.apply(paste_problem,axis=1)"
   ]
  },
  {
   "cell_type": "markdown",
   "metadata": {},
   "source": [
    "## Adherir a el dataframe general los datos de Argentina"
   ]
  },
  {
   "cell_type": "code",
   "execution_count": 16,
   "metadata": {},
   "outputs": [],
   "source": [
    "temporal = pd.DataFrame(columns=['REGISTRATION NUMBER','REGISTRATION NAME','STATUS','EXPIRATION DATE','CFN','CFN DESCRIPTION','OU','Country','MANUFACTURING SITE','LICENSE HOLDER'])\n",
    "for column in temporal.columns:\n",
    "    temporal[column] = df_AR[column]\n",
    "df = pd.concat([df,temporal],ignore_index=True)"
   ]
  },
  {
   "cell_type": "markdown",
   "metadata": {},
   "source": [
    "# Carga de la base de datos de Honduras"
   ]
  },
  {
   "cell_type": "markdown",
   "metadata": {},
   "source": [
    "## Hoja Principal"
   ]
  },
  {
   "cell_type": "markdown",
   "metadata": {},
   "source": [
    "### Carga inicial de datos"
   ]
  },
  {
   "cell_type": "code",
   "execution_count": 17,
   "metadata": {},
   "outputs": [],
   "source": [
    "db_path = path + r'\\Honduras\\MDT-MITG Base de datos Honduras.xlsx'\n",
    "honduras = pd.read_excel(db_path,usecols='A:L',converters = {'Registration number':str,'CFN':str})\n",
    "honduras = honduras.rename(columns={'BU':'OU','Descripción':'CFN DESCRIPTION','Approval date \\n(dia-Mes-YY)':'APPROVAL DATE','Expire date \\n(dia-Mes-YY)':'EXPIRATION DATE',\n",
    "                                    'Distribuidor':'DISTRIBUTOR','Product name':'REGISTRATION NAME','Manufacturing site 2 (If apply)':'Manufacturing site 2',\n",
    "                                    'Registration number':'REGISTRATION NUMBER'},\n",
    "                                    \n",
    "                                    )\n",
    "honduras['Country'] = 'HN'"
   ]
  },
  {
   "cell_type": "markdown",
   "metadata": {},
   "source": [
    "### Pre Procesamiento de Honduras"
   ]
  },
  {
   "cell_type": "code",
   "execution_count": 18,
   "metadata": {},
   "outputs": [],
   "source": [
    "def concatMfg(row,colum1 = 'Manufacturing site 1',colum2 = 'Manufacturing site 2'):\n",
    "    mfg1 = str(row[colum1])\n",
    "    mfg2 = str(row[colum2])\n",
    "    mfg = mfg1 + '\\n' + mfg2\n",
    "    return mfg"
   ]
  },
  {
   "cell_type": "markdown",
   "metadata": {},
   "source": [
    "### Columnas faltantes"
   ]
  },
  {
   "cell_type": "code",
   "execution_count": 19,
   "metadata": {},
   "outputs": [],
   "source": [
    "honduras['MANUFACTURING SITE'] = honduras.apply(concatMfg,axis=1)\n",
    "honduras['STATUS'] = 'No disponible en BD'\n",
    "honduras['LICENSE HOLDER'] = 'No disponible en BD'"
   ]
  },
  {
   "cell_type": "markdown",
   "metadata": {},
   "source": [
    "### Adherir a el dataframe general los datos de honduras (principal)"
   ]
  },
  {
   "cell_type": "code",
   "execution_count": 20,
   "metadata": {},
   "outputs": [],
   "source": [
    "temporal = pd.DataFrame(columns=['Country','REGISTRATION NUMBER','REGISTRATION NAME','STATUS','EXPIRATION DATE','CFN','CFN DESCRIPTION','OU','MANUFACTURING SITE','LICENSE HOLDER'])\n",
    "for column in temporal.columns:\n",
    "    temporal[column] = honduras[column]\n",
    "df = pd.concat([df,temporal],ignore_index=True)"
   ]
  },
  {
   "cell_type": "markdown",
   "metadata": {},
   "source": [
    "## Carga base de datos para MITG Honduras"
   ]
  },
  {
   "cell_type": "markdown",
   "metadata": {},
   "source": [
    "### Carga MITG"
   ]
  },
  {
   "cell_type": "code",
   "execution_count": 21,
   "metadata": {},
   "outputs": [],
   "source": [
    "db_path = path + r'\\Honduras\\MDT-MITG Base de datos Honduras.xlsx'\n",
    "honduras = pd.read_excel(db_path,sheet_name='MITG Local',converters = {'Nº LICENSE':str,'CODES':str})\n",
    "honduras = honduras.rename(columns={'CODES':'CFN','LÍNEA':'OU','Nº LICENSE':'REGISTRATION NUMBER','DESCRPTION OF THE REFERENCE CODE':'CFN DESCRIPTION',\n",
    "                                    'ADDRESS':'MANUFACTURING SITE','DESCRIPCION OF APPROVAL':'REGISTRATION NAME','EXPIRATION \\nDAY':'EXPIRATION DATE',\n",
    "                                    'APPROVAL \\nDATE':'APPROVAL DATE'}\n",
    "                          )\n",
    "honduras['Country'] = 'HN'"
   ]
  },
  {
   "cell_type": "markdown",
   "metadata": {},
   "source": [
    "### Columnas faltantes"
   ]
  },
  {
   "cell_type": "code",
   "execution_count": 22,
   "metadata": {},
   "outputs": [],
   "source": [
    "honduras['STATUS'] = 'No disponible en BD'\n",
    "honduras['LICENSE HOLDER'] = 'No disponible en BD'"
   ]
  },
  {
   "cell_type": "markdown",
   "metadata": {},
   "source": [
    "### Adherir a el dataframe general los datos de honduras (MITG)"
   ]
  },
  {
   "cell_type": "code",
   "execution_count": 23,
   "metadata": {},
   "outputs": [],
   "source": [
    "temporal = pd.DataFrame(columns=['Country','REGISTRATION NUMBER','REGISTRATION NAME','STATUS','EXPIRATION DATE','CFN','CFN DESCRIPTION','OU','MANUFACTURING SITE','LICENSE HOLDER'])\n",
    "for column in temporal.columns:\n",
    "    temporal[column] = honduras[column]\n",
    "df = pd.concat([df,temporal],ignore_index=True)"
   ]
  },
  {
   "cell_type": "markdown",
   "metadata": {},
   "source": [
    "# Carga Base de Datos Republica Dominicana"
   ]
  },
  {
   "cell_type": "markdown",
   "metadata": {},
   "source": [
    "## Carga inicial de la Base de datos"
   ]
  },
  {
   "cell_type": "code",
   "execution_count": 24,
   "metadata": {},
   "outputs": [
    {
     "data": {
      "text/plain": [
       "Index(['CFN', 'CFN DESCRIPTION', 'OU', 'REGISTRATION NUMBER',\n",
       "       'EXPIRATION DATE', 'REGISTRATION NAME', 'LICENSE HOLDER',\n",
       "       'MANUFACTURING SITE', 'PAIS FABRICANTE', 'VIDA ÚTIL', 'RESOLUCIÓN',\n",
       "       'FECHA DE EXPEDICIÓN', 'COMENTARIOS', 'STATUS', 'Country'],\n",
       "      dtype='object')"
      ]
     },
     "execution_count": 24,
     "metadata": {},
     "output_type": "execute_result"
    }
   ],
   "source": [
    "db_path = path + r'\\República Dominicana\\MITG Base de datos Republica Dominicana.xlsx'\n",
    "RepDo = pd.read_excel(db_path,usecols='A:M',converters = {'REGISTRO SANITARIO No.':str,'REFERENCIA':str})\n",
    "\n",
    "RepDo = RepDo.rename(columns={'REFERENCIA':'CFN','REGISTRO SANITARIO No.':'REGISTRATION NUMBER','TITULAR':'LICENSE HOLDER','FABRICADO POR':'MANUFACTURING SITE',\n",
    "                              'BU':'OU','VIGENCIA DEL REGISTRO SANITARIO (dd/mm/aaaa)':'EXPIRATION DATE','DESCRIPCIÓN DE REFERENCIA':'CFN DESCRIPTION',\n",
    "                              'DENOMINACION DEL PRODUCTO SEGÚN REGISTRO SANITARIO':'REGISTRATION NAME'})\n",
    "\n",
    "RepDo['STATUS'] =  'No disponible en BD'\n",
    "RepDo['Country'] = 'DO'\n",
    "RepDo.columns"
   ]
  },
  {
   "cell_type": "markdown",
   "metadata": {},
   "source": [
    "## Adherir republica dominicana al dataframe general"
   ]
  },
  {
   "cell_type": "code",
   "execution_count": 25,
   "metadata": {},
   "outputs": [],
   "source": [
    "temporal = pd.DataFrame(columns=['Country','REGISTRATION NUMBER','REGISTRATION NAME','STATUS','EXPIRATION DATE','CFN','CFN DESCRIPTION','OU','MANUFACTURING SITE','LICENSE HOLDER'])\n",
    "for column in temporal.columns:\n",
    "    temporal[column] = RepDo[column]\n",
    "df = pd.concat([df,temporal],ignore_index=True)"
   ]
  },
  {
   "cell_type": "markdown",
   "metadata": {},
   "source": [
    "# Trimear datos del dataframe General"
   ]
  },
  {
   "cell_type": "code",
   "execution_count": 26,
   "metadata": {},
   "outputs": [],
   "source": [
    "for col in ['CFN', 'REGISTRATION NUMBER','REGISTRATION NAME','OU']:\n",
    "    df[col] = df.apply(trim_column, axis = 1, column = col)\n",
    "df = df.sort_values(by = ['Country'])"
   ]
  },
  {
   "cell_type": "markdown",
   "metadata": {},
   "source": [
    "# Trabajo con el Submission Plan"
   ]
  },
  {
   "cell_type": "markdown",
   "metadata": {},
   "source": [
    "## Cargar Submission Plan para cruces de información"
   ]
  },
  {
   "cell_type": "code",
   "execution_count": 27,
   "metadata": {},
   "outputs": [],
   "source": [
    "df_plan = pd.read_excel('Submission Plan - Full Report.xlsx',usecols=['Id','License Number','SubOU','Status','Submission Type','Expected Submission Date','Expected Approval Date','Approval Date','Country'],\n",
    "                        converters = {'License Number':str})\n"
   ]
  },
  {
   "cell_type": "markdown",
   "metadata": {},
   "source": [
    "## Pre procesamiento de datos"
   ]
  },
  {
   "cell_type": "code",
   "execution_count": 28,
   "metadata": {},
   "outputs": [],
   "source": [
    "df_plan=df_plan.rename(columns={'License Number':'REGISTRATION NUMBER','Status':'Status Submission Plan'})"
   ]
  },
  {
   "cell_type": "code",
   "execution_count": 29,
   "metadata": {},
   "outputs": [],
   "source": [
    "df_plan['REGISTRATION NUMBER'] = df_plan.apply(trim_column,axis=1,column='REGISTRATION NUMBER')"
   ]
  },
  {
   "cell_type": "markdown",
   "metadata": {},
   "source": [
    "# Tracker"
   ]
  },
  {
   "cell_type": "markdown",
   "metadata": {},
   "source": [
    "## Tracker por OU"
   ]
  },
  {
   "cell_type": "code",
   "execution_count": 37,
   "metadata": {},
   "outputs": [],
   "source": [
    "df_ou = df[df['OU'].isin(['SI(LA)','SI (LA)','SI'])]\n",
    "df_registration = df_ou.drop('CFN',axis = 1)\n",
    "df_registration = df_registration.drop_duplicates(subset=['REGISTRATION NUMBER'])\n"
   ]
  },
  {
   "cell_type": "code",
   "execution_count": 38,
   "metadata": {},
   "outputs": [],
   "source": [
    "repo = pd.merge(df_plan,df_registration, how='inner',on='REGISTRATION NUMBER')\n",
    "repo = repo[~repo['Status Submission Plan'].isin(['APPROVED'])]"
   ]
  },
  {
   "cell_type": "code",
   "execution_count": 40,
   "metadata": {},
   "outputs": [],
   "source": [
    "with pd.ExcelWriter('tracker Laparoscopia.xlsx') as writer1:\n",
    "    df_ou.to_excel(writer1, sheet_name = 'Listado con CFNs', index = False)\n",
    "    df_registration.to_excel(writer1, sheet_name = 'Listado de Regsitros', index = False)\n",
    "    repo.to_excel(writer1, sheet_name  = ' Busqueda en Submission Plan',index = False)\n",
    "    "
   ]
  },
  {
   "cell_type": "markdown",
   "metadata": {},
   "source": [
    "## Tracker por Pais"
   ]
  },
  {
   "cell_type": "code",
   "execution_count": 71,
   "metadata": {},
   "outputs": [],
   "source": [
    "df_country = df[df['Country'] == 'BO']\n",
    "df_registration = df_country.drop('CFN',axis=1)\n",
    "df_registration = df_registration.drop_duplicates(subset=['REGISTRATION NUMBER'])\n",
    "repo = pd.merge(df_plan,df_registration, how='inner',on='REGISTRATION NUMBER')"
   ]
  },
  {
   "cell_type": "code",
   "execution_count": 39,
   "metadata": {},
   "outputs": [],
   "source": [
    "full = df_plan[df_plan['Country'] == 'BO - Bolivia']"
   ]
  },
  {
   "cell_type": "code",
   "execution_count": 79,
   "metadata": {},
   "outputs": [],
   "source": [
    "with pd.ExcelWriter('tracker Bolivia.xlsx') as writer1:\n",
    "    df_country.to_excel(writer1, sheet_name = 'Lsitado con CFNs', index = False)\n",
    "    df_registration.to_excel(writer1, sheet_name = 'Listado de Regsitros', index = False)\n",
    "    repo.to_excel(writer1, sheet_name  = ' Busqueda en Submission Plan',index = False)\n",
    "    full.to_excel(writer1, sheet_name  = ' Full Submmission Plan',index = False)"
   ]
  },
  {
   "cell_type": "markdown",
   "metadata": {},
   "source": [
    "## Cosolidado de paises"
   ]
  },
  {
   "cell_type": "code",
   "execution_count": null,
   "metadata": {},
   "outputs": [],
   "source": [
    "df.to_excel('Consolidado general.xlsx',index = False)"
   ]
  },
  {
   "cell_type": "markdown",
   "metadata": {},
   "source": [
    "# Tracker de OU antiguas"
   ]
  },
  {
   "cell_type": "code",
   "execution_count": 30,
   "metadata": {},
   "outputs": [],
   "source": [
    "listado = \"\"\"CAS\n",
    "CORO\n",
    "CRM\n",
    "CS\n",
    "CSF\n",
    "CV\n",
    "DBS\n",
    "DIAB\n",
    "ENT\n",
    "GIH\n",
    "INT\n",
    "KH\n",
    "MCS\n",
    "MPSS\n",
    "MSB\n",
    "NAV\n",
    "NIM\n",
    "NV\n",
    "PAIN\n",
    "PH\n",
    "PM\n",
    "PVH\n",
    "RCS\n",
    "RDN\n",
    "RI\n",
    "SHA\n",
    "SI(A&I)\n",
    "SI(EMID)\n",
    "SI(HW,VS&ES)\n",
    "SI(LA)\n",
    "SI(OS&SP)\n",
    "SI(ST)\n",
    "SI(SY,SO&MS)\n",
    "SR\n",
    "TS\"\"\"\n"
   ]
  },
  {
   "cell_type": "code",
   "execution_count": 36,
   "metadata": {},
   "outputs": [],
   "source": [
    "listado = listado.split('\\n')\n",
    "listado1 = [var.strip() for var in listado]"
   ]
  },
  {
   "cell_type": "code",
   "execution_count": 37,
   "metadata": {},
   "outputs": [],
   "source": [
    "df_ou = df[~df['OU'].isin(listado1)]\n",
    "# df_ou.to_excel('CFNs con SubOU antiguas.xlsx',index = False)"
   ]
  },
  {
   "cell_type": "markdown",
   "metadata": {},
   "source": [
    "## Por Lsita de CFNs"
   ]
  },
  {
   "cell_type": "code",
   "execution_count": 31,
   "metadata": {},
   "outputs": [],
   "source": [
    "lista = pd.read_excel('cfn_list.xlsx',converters = {'CFN':str})"
   ]
  },
  {
   "cell_type": "code",
   "execution_count": 32,
   "metadata": {},
   "outputs": [],
   "source": [
    "lista1 = [cfn.strip() for cfn in lista['CFN'] ]"
   ]
  },
  {
   "cell_type": "code",
   "execution_count": 33,
   "metadata": {},
   "outputs": [],
   "source": [
    "recuento = pd.DataFrame(columns = ['CFN','SubOUs','Country'])\n",
    "for cfn in lista1:\n",
    "    aux = pd.DataFrame(columns = ['CFN','SubOUs'])\n",
    "    temp = df[df['CFN'] == cfn]\n",
    "    pos = [op for op in temp['OU']]\n",
    "    countries = [op for op in temp['Country']]\n",
    "    \n",
    "    aux['CFN'] = [cfn]\n",
    "    aux['SubOUs'] = [pos]\n",
    "    aux['Country'] = [countries]\n",
    "    recuento = pd.concat([recuento,aux])\n"
   ]
  },
  {
   "cell_type": "code",
   "execution_count": 85,
   "metadata": {},
   "outputs": [],
   "source": [
    "compare = pd.DataFrame(columns = ['CFN','SubOUs','Country'])\n",
    "for cfn in set(df['CFN']):\n",
    "    aux = pd.DataFrame(columns = ['CFN','SubOUs','Country'])\n",
    "    temp = df[df['CFN'] == cfn]\n",
    "    pos = [op for op in temp['OU']]\n",
    "    countries = [op for op in temp['Country']]\n",
    "    val = np.unique(np.array(pos))\n",
    "    if  len(val)>1:\n",
    "        aux['CFN'] = [cfn]\n",
    "        aux['SubOUs'] = [pos]\n",
    "        aux['Country'] = [countries]\n",
    "        compare = pd.concat([compare,aux])\n",
    "    else:\n",
    "        continue"
   ]
  },
  {
   "cell_type": "code",
   "execution_count": 73,
   "metadata": {},
   "outputs": [],
   "source": [
    "df_out2 = df[df['CFN'].isin(lista1)]\n"
   ]
  },
  {
   "cell_type": "code",
   "execution_count": 38,
   "metadata": {},
   "outputs": [],
   "source": [
    "with pd.ExcelWriter('SubOU_review.xlsx') as writer1:\n",
    "    df_ou.to_excel(writer1, sheet_name = 'Listado de CFNs con OU viejas', index = False)\n",
    "    recuento.to_excel(writer1, sheet_name  = 'OU no detectadas comparadas con otros paises',index = False)\n",
    "    compare.to_excel(writer1,sheet_name='Equivalencias por paises',index = False)"
   ]
  },
  {
   "cell_type": "markdown",
   "metadata": {},
   "source": [
    "# Trabajo con potenciales critical comunication"
   ]
  },
  {
   "cell_type": "code",
   "execution_count": 30,
   "metadata": {},
   "outputs": [],
   "source": [
    "critical = pd.read_excel('Expected Critical Communications Report.xlsx',converters={'License Number':str})\n",
    "critical = critical[critical['Status'] == 'CANCELLED']"
   ]
  },
  {
   "cell_type": "code",
   "execution_count": 49,
   "metadata": {},
   "outputs": [
    {
     "data": {
      "text/plain": [
       "Index(['Product Name', 'Id', 'RAS Name', 'License Number', 'CFN',\n",
       "       'Submission Type', 'License Expiration Date', 'Cluster', 'Country',\n",
       "       'Therapy Group', 'SubOU', 'Status', 'Expected Approval Date',\n",
       "       'RAC/RAN'],\n",
       "      dtype='object')"
      ]
     },
     "execution_count": 49,
     "metadata": {},
     "output_type": "execute_result"
    }
   ],
   "source": [
    "critical.columns"
   ]
  },
  {
   "cell_type": "code",
   "execution_count": 31,
   "metadata": {},
   "outputs": [],
   "source": [
    "listado = [var.strip() for var in critical['License Number']]\n",
    "listado = set(listado)"
   ]
  },
  {
   "cell_type": "code",
   "execution_count": 51,
   "metadata": {},
   "outputs": [
    {
     "data": {
      "text/plain": [
       "Index(['Country', 'REGISTRATION NUMBER', 'REGISTRATION NAME', 'STATUS',\n",
       "       'EXPIRATION DATE', 'CFN', 'CFN DESCRIPTION', 'OU', 'MANUFACTURING SITE',\n",
       "       'LICENSE HOLDER'],\n",
       "      dtype='object')"
      ]
     },
     "execution_count": 51,
     "metadata": {},
     "output_type": "execute_result"
    }
   ],
   "source": [
    "df.columns"
   ]
  },
  {
   "cell_type": "code",
   "execution_count": 32,
   "metadata": {},
   "outputs": [],
   "source": [
    "df_critical = df[(df['REGISTRATION NUMBER'].isin(listado)) & (df['STATUS']!= 'Vigente, no se renovará')]"
   ]
  }
 ],
 "metadata": {
  "kernelspec": {
   "display_name": "Python 3.10.5 64-bit",
   "language": "python",
   "name": "python3"
  },
  "language_info": {
   "codemirror_mode": {
    "name": "ipython",
    "version": 3
   },
   "file_extension": ".py",
   "mimetype": "text/x-python",
   "name": "python",
   "nbconvert_exporter": "python",
   "pygments_lexer": "ipython3",
   "version": "3.10.5 (tags/v3.10.5:f377153, Jun  6 2022, 16:14:13) [MSC v.1929 64 bit (AMD64)]"
  },
  "orig_nbformat": 4,
  "vscode": {
   "interpreter": {
    "hash": "b1f904a02afafe6dff31b8bfab88b37cdb841db7f5ec093880766367f7f0b856"
   }
  }
 },
 "nbformat": 4,
 "nbformat_minor": 2
}
